{
  "nbformat": 4,
  "nbformat_minor": 0,
  "metadata": {
    "colab": {
      "provenance": [],
      "authorship_tag": "ABX9TyMUpuDL/b/Z+Gz+nOEBBUT1",
      "include_colab_link": true
    },
    "kernelspec": {
      "name": "python3",
      "display_name": "Python 3"
    },
    "language_info": {
      "name": "python"
    }
  },
  "cells": [
    {
      "cell_type": "markdown",
      "metadata": {
        "id": "view-in-github",
        "colab_type": "text"
      },
      "source": [
        "<a href=\"https://colab.research.google.com/github/devikaajay/DS_Assessment_2/blob/main/DSA_Assessment_2.ipynb\" target=\"_parent\"><img src=\"https://colab.research.google.com/assets/colab-badge.svg\" alt=\"Open In Colab\"/></a>"
      ]
    },
    {
      "cell_type": "code",
      "execution_count": 1,
      "metadata": {
        "id": "MHN2HD4dSqDv"
      },
      "outputs": [],
      "source": [
        "import pandas as pd\n",
        "from sklearn.model_selection import train_test_split\n",
        "from sklearn.ensemble import RandomForestClassifier\n",
        "from sklearn.metrics import f1_score\n",
        "import numpy as np"
      ]
    },
    {
      "cell_type": "code",
      "source": [
        "train_df = pd.read_csv('train_LZdllcl.csv')\n",
        "test_df = pd.read_csv('test_2umaH9m.csv')\n",
        "sample_submission_df = pd.read_csv('sample_submission_M0L0uXE.csv')"
      ],
      "metadata": {
        "id": "OxhYEJ2eTpIZ"
      },
      "execution_count": 2,
      "outputs": []
    },
    {
      "cell_type": "markdown",
      "source": [
        "Exploratory Data Analysis"
      ],
      "metadata": {
        "id": "4eGDsHuIULUN"
      }
    },
    {
      "cell_type": "code",
      "source": [
        "print(\"\\nDistribution of 'is_promoted' in Training Data:\")\n",
        "print(train_df['is_promoted'].value_counts())\n",
        "print(train_df['is_promoted'].value_counts(normalize=True) * 100)"
      ],
      "metadata": {
        "colab": {
          "base_uri": "https://localhost:8080/"
        },
        "id": "zKJN_NOfTxY5",
        "outputId": "5ac2b092-d8df-4253-9111-d9d215df1e84"
      },
      "execution_count": 3,
      "outputs": [
        {
          "output_type": "stream",
          "name": "stdout",
          "text": [
            "\n",
            "Distribution of 'is_promoted' in Training Data:\n",
            "is_promoted\n",
            "0    50140\n",
            "1     4668\n",
            "Name: count, dtype: int64\n",
            "is_promoted\n",
            "0    91.482995\n",
            "1     8.517005\n",
            "Name: proportion, dtype: float64\n"
          ]
        }
      ]
    },
    {
      "cell_type": "markdown",
      "source": [
        "Pre Processing"
      ],
      "metadata": {
        "id": "d08g1JWgUTJT"
      }
    },
    {
      "cell_type": "code",
      "source": [
        "train_df_processed = train_df.copy()\n",
        "test_df_processed = test_df.copy()"
      ],
      "metadata": {
        "id": "2DvNJGvCT7bR"
      },
      "execution_count": 4,
      "outputs": []
    },
    {
      "cell_type": "code",
      "source": [
        "mode_education_train = train_df_processed['education'].mode()[0]\n",
        "train_df_processed['education'].fillna(mode_education_train, inplace=True)\n",
        "test_df_processed['education'].fillna(mode_education_train, inplace=True)\n",
        "\n",
        "mode_prev_rating_train = train_df_processed['previous_year_rating'].mode()[0]\n",
        "train_df_processed['previous_year_rating'].fillna(mode_prev_rating_train, inplace=True)\n",
        "test_df_processed['previous_year_rating'].fillna(mode_prev_rating_train, inplace=True)"
      ],
      "metadata": {
        "colab": {
          "base_uri": "https://localhost:8080/"
        },
        "id": "Ixk7jQkZT_iv",
        "outputId": "0a9236d1-9b0b-4950-a704-a0da2def712a"
      },
      "execution_count": 5,
      "outputs": [
        {
          "output_type": "stream",
          "name": "stderr",
          "text": [
            "<ipython-input-5-11361faa13ea>:2: FutureWarning: A value is trying to be set on a copy of a DataFrame or Series through chained assignment using an inplace method.\n",
            "The behavior will change in pandas 3.0. This inplace method will never work because the intermediate object on which we are setting values always behaves as a copy.\n",
            "\n",
            "For example, when doing 'df[col].method(value, inplace=True)', try using 'df.method({col: value}, inplace=True)' or df[col] = df[col].method(value) instead, to perform the operation inplace on the original object.\n",
            "\n",
            "\n",
            "  train_df_processed['education'].fillna(mode_education_train, inplace=True)\n",
            "<ipython-input-5-11361faa13ea>:3: FutureWarning: A value is trying to be set on a copy of a DataFrame or Series through chained assignment using an inplace method.\n",
            "The behavior will change in pandas 3.0. This inplace method will never work because the intermediate object on which we are setting values always behaves as a copy.\n",
            "\n",
            "For example, when doing 'df[col].method(value, inplace=True)', try using 'df.method({col: value}, inplace=True)' or df[col] = df[col].method(value) instead, to perform the operation inplace on the original object.\n",
            "\n",
            "\n",
            "  test_df_processed['education'].fillna(mode_education_train, inplace=True)\n",
            "<ipython-input-5-11361faa13ea>:6: FutureWarning: A value is trying to be set on a copy of a DataFrame or Series through chained assignment using an inplace method.\n",
            "The behavior will change in pandas 3.0. This inplace method will never work because the intermediate object on which we are setting values always behaves as a copy.\n",
            "\n",
            "For example, when doing 'df[col].method(value, inplace=True)', try using 'df.method({col: value}, inplace=True)' or df[col] = df[col].method(value) instead, to perform the operation inplace on the original object.\n",
            "\n",
            "\n",
            "  train_df_processed['previous_year_rating'].fillna(mode_prev_rating_train, inplace=True)\n",
            "<ipython-input-5-11361faa13ea>:7: FutureWarning: A value is trying to be set on a copy of a DataFrame or Series through chained assignment using an inplace method.\n",
            "The behavior will change in pandas 3.0. This inplace method will never work because the intermediate object on which we are setting values always behaves as a copy.\n",
            "\n",
            "For example, when doing 'df[col].method(value, inplace=True)', try using 'df.method({col: value}, inplace=True)' or df[col] = df[col].method(value) instead, to perform the operation inplace on the original object.\n",
            "\n",
            "\n",
            "  test_df_processed['previous_year_rating'].fillna(mode_prev_rating_train, inplace=True)\n"
          ]
        }
      ]
    },
    {
      "cell_type": "code",
      "source": [
        "print(\"\\nMissing values after imputation (Train DataFrame):\")\n",
        "print(train_df_processed.isnull().sum()[train_df_processed.isnull().sum() > 0])\n",
        "\n",
        "print(\"\\nMissing values after imputation (Test DataFrame):\")\n",
        "print(test_df_processed.isnull().sum()[test_df_processed.isnull().sum() > 0])"
      ],
      "metadata": {
        "colab": {
          "base_uri": "https://localhost:8080/"
        },
        "id": "AxcDd9rjUf0K",
        "outputId": "52160b84-54e9-4b05-f08b-cda4af76c5f5"
      },
      "execution_count": 6,
      "outputs": [
        {
          "output_type": "stream",
          "name": "stdout",
          "text": [
            "\n",
            "Missing values after imputation (Train DataFrame):\n",
            "Series([], dtype: int64)\n",
            "\n",
            "Missing values after imputation (Test DataFrame):\n",
            "Series([], dtype: int64)\n"
          ]
        }
      ]
    },
    {
      "cell_type": "code",
      "source": [
        "train_employee_ids = train_df_processed['employee_id']\n",
        "test_employee_ids = test_df_processed['employee_id']\n",
        "\n",
        "X_train = train_df_processed.drop(columns=['employee_id', 'is_promoted'])\n",
        "y_train = train_df_processed['is_promoted']\n",
        "\n",
        "X_test = test_df_processed.drop(columns=['employee_id'])\n",
        "\n",
        "categorical_cols = [col for col in X_train.columns if X_train[col].dtype == 'object']\n",
        "numerical_cols = [col for col in X_train.columns if X_train[col].dtype != 'object']\n"
      ],
      "metadata": {
        "id": "JmtKxntpfySy"
      },
      "execution_count": 7,
      "outputs": []
    },
    {
      "cell_type": "code",
      "source": [
        "from sklearn.preprocessing import OneHotEncoder\n",
        "encoder = OneHotEncoder(handle_unknown='ignore', sparse_output=False)\n",
        "X_train_encoded_array = encoder.fit_transform(X_train[categorical_cols])\n",
        "X_test_encoded_array = encoder.transform(X_test[categorical_cols])\n",
        "encoded_feature_names = encoder.get_feature_names_out(categorical_cols)\n",
        "\n",
        "X_train_categorical_df = pd.DataFrame(X_train_encoded_array, columns=encoded_feature_names, index=X_train.index)\n",
        "X_test_categorical_df = pd.DataFrame(X_test_encoded_array, columns=encoded_feature_names, index=X_test.index)\n",
        "\n",
        "train_cols_set = set(X_train_categorical_df.columns)\n",
        "test_cols_set = set(X_test_categorical_df.columns)\n",
        "\n",
        "missing_in_test = list(train_cols_set - test_cols_set)\n",
        "missing_in_train = list(test_cols_set - train_cols_set)"
      ],
      "metadata": {
        "id": "fxPlwW38gCXR"
      },
      "execution_count": 8,
      "outputs": []
    },
    {
      "cell_type": "code",
      "source": [
        "for col in missing_in_test:\n",
        "    X_test_categorical_df[col] = 0\n",
        "for col in missing_in_train:\n",
        "    X_train_categorical_df[col] = 0\n",
        "\n",
        "X_test_categorical_df = X_test_categorical_df[X_train_categorical_df.columns]\n",
        "\n",
        "X_train_final = pd.concat([X_train[numerical_cols], X_train_categorical_df], axis=1)\n",
        "X_test_final = pd.concat([X_test[numerical_cols], X_test_categorical_df], axis=1)"
      ],
      "metadata": {
        "id": "dxor6o0PVB9b"
      },
      "execution_count": 9,
      "outputs": []
    },
    {
      "cell_type": "code",
      "source": [
        "print(\"\\nShape of X_train_final after One-Hot Encoding:\", X_train_final.shape)\n",
        "print(\"Shape of X_test_final after One-Hot Encoding:\", X_test_final.shape)\n",
        "print(\"\\nFirst 5 rows of X_train_final:\")\n",
        "print(X_train_final.head())\n",
        "print(\"\\nFirst 5 rows of X_test_final:\")\n",
        "print(X_test_final.head())"
      ],
      "metadata": {
        "colab": {
          "base_uri": "https://localhost:8080/"
        },
        "id": "bLB515JzVcXk",
        "outputId": "39c54c88-09b4-44d1-a2f0-2fbec035c125"
      },
      "execution_count": 10,
      "outputs": [
        {
          "output_type": "stream",
          "name": "stdout",
          "text": [
            "\n",
            "Shape of X_train_final after One-Hot Encoding: (54808, 58)\n",
            "Shape of X_test_final after One-Hot Encoding: (23490, 58)\n",
            "\n",
            "First 5 rows of X_train_final:\n",
            "   no_of_trainings  age  previous_year_rating  length_of_service  \\\n",
            "0                1   35                   5.0                  8   \n",
            "1                1   30                   5.0                  4   \n",
            "2                1   34                   3.0                  7   \n",
            "3                2   39                   1.0                 10   \n",
            "4                1   45                   3.0                  2   \n",
            "\n",
            "   KPIs_met >80%  awards_won?  avg_training_score  department_Analytics  \\\n",
            "0              1            0                  49                   0.0   \n",
            "1              0            0                  60                   0.0   \n",
            "2              0            0                  50                   0.0   \n",
            "3              0            0                  50                   0.0   \n",
            "4              0            0                  73                   0.0   \n",
            "\n",
            "   department_Finance  department_HR  ...  region_region_8  region_region_9  \\\n",
            "0                 0.0            0.0  ...              0.0              0.0   \n",
            "1                 0.0            0.0  ...              0.0              0.0   \n",
            "2                 0.0            0.0  ...              0.0              0.0   \n",
            "3                 0.0            0.0  ...              0.0              0.0   \n",
            "4                 0.0            0.0  ...              0.0              0.0   \n",
            "\n",
            "   education_Bachelor's  education_Below Secondary  \\\n",
            "0                   0.0                        0.0   \n",
            "1                   1.0                        0.0   \n",
            "2                   1.0                        0.0   \n",
            "3                   1.0                        0.0   \n",
            "4                   1.0                        0.0   \n",
            "\n",
            "   education_Master's & above  gender_f  gender_m  recruitment_channel_other  \\\n",
            "0                         1.0       1.0       0.0                        0.0   \n",
            "1                         0.0       0.0       1.0                        1.0   \n",
            "2                         0.0       0.0       1.0                        0.0   \n",
            "3                         0.0       0.0       1.0                        1.0   \n",
            "4                         0.0       0.0       1.0                        1.0   \n",
            "\n",
            "   recruitment_channel_referred  recruitment_channel_sourcing  \n",
            "0                           0.0                           1.0  \n",
            "1                           0.0                           0.0  \n",
            "2                           0.0                           1.0  \n",
            "3                           0.0                           0.0  \n",
            "4                           0.0                           0.0  \n",
            "\n",
            "[5 rows x 58 columns]\n",
            "\n",
            "First 5 rows of X_test_final:\n",
            "   no_of_trainings  age  previous_year_rating  length_of_service  \\\n",
            "0                1   24                   3.0                  1   \n",
            "1                1   31                   3.0                  5   \n",
            "2                1   31                   1.0                  4   \n",
            "3                3   31                   2.0                  9   \n",
            "4                1   30                   4.0                  7   \n",
            "\n",
            "   KPIs_met >80%  awards_won?  avg_training_score  department_Analytics  \\\n",
            "0              1            0                  77                   0.0   \n",
            "1              0            0                  51                   0.0   \n",
            "2              0            0                  47                   0.0   \n",
            "3              0            0                  65                   0.0   \n",
            "4              0            0                  61                   0.0   \n",
            "\n",
            "   department_Finance  department_HR  ...  region_region_8  region_region_9  \\\n",
            "0                 0.0            0.0  ...              0.0              0.0   \n",
            "1                 0.0            1.0  ...              0.0              0.0   \n",
            "2                 0.0            0.0  ...              0.0              0.0   \n",
            "3                 0.0            0.0  ...              0.0              0.0   \n",
            "4                 1.0            0.0  ...              0.0              0.0   \n",
            "\n",
            "   education_Bachelor's  education_Below Secondary  \\\n",
            "0                   1.0                        0.0   \n",
            "1                   1.0                        0.0   \n",
            "2                   1.0                        0.0   \n",
            "3                   1.0                        0.0   \n",
            "4                   1.0                        0.0   \n",
            "\n",
            "   education_Master's & above  gender_f  gender_m  recruitment_channel_other  \\\n",
            "0                         0.0       0.0       1.0                        0.0   \n",
            "1                         0.0       1.0       0.0                        1.0   \n",
            "2                         0.0       0.0       1.0                        1.0   \n",
            "3                         0.0       1.0       0.0                        1.0   \n",
            "4                         0.0       0.0       1.0                        0.0   \n",
            "\n",
            "   recruitment_channel_referred  recruitment_channel_sourcing  \n",
            "0                           0.0                           1.0  \n",
            "1                           0.0                           0.0  \n",
            "2                           0.0                           0.0  \n",
            "3                           0.0                           0.0  \n",
            "4                           0.0                           1.0  \n",
            "\n",
            "[5 rows x 58 columns]\n"
          ]
        }
      ]
    },
    {
      "cell_type": "markdown",
      "source": [
        "Modelling"
      ],
      "metadata": {
        "id": "MTFcx4z9Vi_d"
      }
    },
    {
      "cell_type": "code",
      "source": [
        "model = RandomForestClassifier(n_estimators=200, random_state=42, class_weight='balanced', n_jobs=-1)\n",
        "print(\"Training RandomForestClassifier model...\")\n",
        "model.fit(X_train_final, y_train)\n",
        "print(\"Model training complete.\")"
      ],
      "metadata": {
        "colab": {
          "base_uri": "https://localhost:8080/"
        },
        "id": "omPI_XUGVk21",
        "outputId": "f51c3db7-c5af-4d1b-f33f-39a63c52a67f"
      },
      "execution_count": 11,
      "outputs": [
        {
          "output_type": "stream",
          "name": "stdout",
          "text": [
            "Training RandomForestClassifier model...\n",
            "Model training complete.\n"
          ]
        }
      ]
    },
    {
      "cell_type": "code",
      "source": [
        "model_base = RandomForestClassifier(random_state=42, class_weight='balanced', n_jobs=-1)\n",
        "param_grid = {\n",
        "    'n_estimators': [100, 200],\n",
        "    'max_depth': [None, 10, 20],\n",
        "    'min_samples_split': [2, 5]\n",
        "}"
      ],
      "metadata": {
        "id": "RCw5qK1ZZhbD"
      },
      "execution_count": 12,
      "outputs": []
    },
    {
      "cell_type": "code",
      "source": [
        "from sklearn.metrics import f1_score, make_scorer\n",
        "from sklearn.model_selection import GridSearchCV\n",
        "f1_scorer = make_scorer(f1_score, average='binary')\n",
        "grid_search = GridSearchCV(estimator=model_base, param_grid=param_grid,cv=3, scoring=f1_scorer, verbose=1, n_jobs=-1)\n",
        "grid_search.fit(X_train_final, y_train)\n",
        "best_model = grid_search.best_estimator_\n",
        "print(f\"Best hyperparameters found: {grid_search.best_params_}\")\n",
        "print(f\"Best F1 Score on validation sets during tuning: {grid_search.best_score_:.4f}\")"
      ],
      "metadata": {
        "colab": {
          "base_uri": "https://localhost:8080/"
        },
        "id": "pX2aND9nZt9c",
        "outputId": "9c8e1e80-e176-45b5-b32c-7355ae520465"
      },
      "execution_count": 13,
      "outputs": [
        {
          "output_type": "stream",
          "name": "stdout",
          "text": [
            "Fitting 3 folds for each of 12 candidates, totalling 36 fits\n",
            "Best hyperparameters found: {'max_depth': None, 'min_samples_split': 5, 'n_estimators': 100}\n",
            "Best F1 Score on validation sets during tuning: 0.4555\n"
          ]
        }
      ]
    },
    {
      "cell_type": "markdown",
      "source": [
        "Prediction"
      ],
      "metadata": {
        "id": "xLN7kFsNVuz6"
      }
    },
    {
      "cell_type": "code",
      "source": [
        "print(\"Making predictions on the pre-processed test dataset\")\n",
        "predictions = best_model.predict(X_test_final)\n",
        "print(\"Predictions generated.\")"
      ],
      "metadata": {
        "id": "G5Mivqp4VwqZ",
        "colab": {
          "base_uri": "https://localhost:8080/"
        },
        "outputId": "53f01a42-c865-449b-e05c-3f190eeed140"
      },
      "execution_count": 14,
      "outputs": [
        {
          "output_type": "stream",
          "name": "stdout",
          "text": [
            "Making predictions on the pre-processed test dataset...\n",
            "Predictions generated.\n"
          ]
        }
      ]
    },
    {
      "cell_type": "code",
      "source": [
        "sample_submission_df['is_promoted'] = predictions\n",
        "output_filename = 'submission_hr_analytics.csv'\n",
        "sample_submission_df.to_csv(output_filename, index=False)\n",
        "print(f\"\\nSubmission file saved successfully as '{output_filename}' in your current directory.\")\n",
        "print(\"\\nFinal submission file head:\")\n",
        "print(sample_submission_df.head())"
      ],
      "metadata": {
        "id": "j4FC7IJMV55V",
        "colab": {
          "base_uri": "https://localhost:8080/"
        },
        "outputId": "4c4c007d-863d-4d5a-fc15-f8ce7969ac29"
      },
      "execution_count": 15,
      "outputs": [
        {
          "output_type": "stream",
          "name": "stdout",
          "text": [
            "\n",
            "Submission file saved successfully as 'submission_hr_analytics.csv' in your current directory.\n",
            "\n",
            "Final submission file head:\n",
            "   employee_id  is_promoted\n",
            "0         8724            0\n",
            "1        74430            0\n",
            "2        72255            0\n",
            "3        38562            0\n",
            "4        64486            0\n"
          ]
        }
      ]
    }
  ]
}